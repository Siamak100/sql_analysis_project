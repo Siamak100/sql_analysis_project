{
 "cells": [
  {
   "cell_type": "markdown",
   "metadata": {},
   "source": [
    "#Theoretical Questions\n",
    "1. Beskriv kort hur en relationsdatabas fungerar.\n",
    "   Svara: Relationsdatabaser organiserar data i tabeller med rader och kolumner, sammankopplade med primära och främmande nycklar\n",
    "2. Vad menas med “CRUD”-flödet?\n",
    "   Svara: CRUD står för Skapa, Läs, Uppdatera och Ta bort, huvudoperationerna för data.\n",
    "3. Beskriv kort vad en “left join” och en “inner join” är. Varför använder man det?\n",
    "   Svara : - Left Join: Returnerar alla rader från den vänstra tabellen och matchande rader från den högra tabellen.\n",
    "           - Inner Join: Returnerar endast matchande rader från båda tabellerna.\n",
    "4. Beskriv kort vad indexering i SQL innebär.\n",
    "       Svara:Indexering i SQL innebär att skapa ett datastrukturobjekt på en eller flera kolumner i en tabell för att förbättra sökprestanda. Ett index fungerar som en katalog som hjälper databasen att snabbt hitta data utan att behöva skanna hela tabellen. Det finns olika typer av index, som primärnyckelindex, unika index och klustrade index.\n",
    "5. Beskriv kort vad en vy i SQL är.\n",
    "   Svara: En vy (view) i SQL är en virtuell tabell som baseras på resultatet av en SQL-fråga. Den lagrar inte data själv utan visar data från en eller flera tabeller beroende på den definierade frågan. Vy används för att förenkla komplexa frågor, förbättra säkerhet och presentera data i en användarvänlig form\n",
    "6. Beskriv kort vad en lagrad procedur i SQL är.\n",
    "   Svara:En lagrad procedur (stored procedure) i SQL är en förkompilerad samling av en eller flera SQL-frågor som lagras i databasen och kan köras med ett enkelt kommando. Den används för att automatisera uppgifter, minska nätverkstrafik och säkerställa återanvändbarhet av kod. Lagrade procedurer kan innehålla logik, som loopar och villkor.\n",
    "\n"
   ]
  },
  {
   "cell_type": "code",
   "execution_count": 14,
   "metadata": {},
   "outputs": [],
   "source": [
    "from sqlalchemy import create_engine\n",
    "import pandas as pd\n",
    "import matplotlib.pyplot as plt\n",
    "from scipy import stats\n",
    "import matplotlib\n",
    "matplotlib.use(\"Agg\") \n",
    "\n",
    "# Ställ in anslutningsinformation\n",
    "server_name = \"SIAMAK\"  # Mitt server nam in laptopا\n",
    "database_name = \"AdventureWorks2022\""
   ]
  },
  {
   "cell_type": "code",
   "execution_count": null,
   "metadata": {},
   "outputs": [
    {
     "name": "stdout",
     "output_type": "stream",
     "text": [
      "Creating database connection...\n",
      "Database connection created successfully!\n",
      "Testing connection to the database...\n",
      "Connection Successful!\n",
      "   BusinessEntityID PersonType  NameStyle Title FirstName MiddleName  \\\n",
      "0                 1         EM      False  None       Ken          J   \n",
      "1                 2         EM      False  None     Terri        Lee   \n",
      "2                 3         EM      False  None   Roberto       None   \n",
      "3                 4         EM      False  None       Rob       None   \n",
      "4                 5         EM      False   Ms.      Gail          A   \n",
      "\n",
      "     LastName Suffix  EmailPromotion AdditionalContactInfo  \\\n",
      "0     Sánchez   None               0                  None   \n",
      "1       Duffy   None               1                  None   \n",
      "2  Tamburello   None               0                  None   \n",
      "3     Walters   None               0                  None   \n",
      "4    Erickson   None               0                  None   \n",
      "\n",
      "                                        Demographics  \\\n",
      "0  <IndividualSurvey xmlns=\"http://schemas.micros...   \n",
      "1  <IndividualSurvey xmlns=\"http://schemas.micros...   \n",
      "2  <IndividualSurvey xmlns=\"http://schemas.micros...   \n",
      "3  <IndividualSurvey xmlns=\"http://schemas.micros...   \n",
      "4  <IndividualSurvey xmlns=\"http://schemas.micros...   \n",
      "\n",
      "                                rowguid ModifiedDate  \n",
      "0  92C4279F-1207-48A3-8448-4636514EB7E2   2009-01-07  \n",
      "1  D8763459-8AA8-47CC-AFF7-C9079AF79033   2008-01-24  \n",
      "2  E1A2555E-0828-434B-A33B-6F38136A37DE   2007-11-04  \n",
      "3  F2D7CE06-38B3-4357-805B-F4B6B71C01FF   2007-11-28  \n",
      "4  F3A3F6B4-AE3B-430C-A754-9F2231BA6FEF   2007-12-30  \n"
     ]
    }
   ],
   "source": [
    "# # Skapa anslutningssträng\n",
    "connection_string = f\"mssql+pyodbc://@{server_name}/{database_name}?driver=ODBC+Driver+17+for+SQL+Server&trusted_connection=yes\"\n",
    "\n",
    "#Skapa Anslutning \n",
    "try:\n",
    "    print(\"Creating database connection...\")\n",
    "    engine = create_engine(connection_string)\n",
    "    print(\"Database connection created successfully!\")\n",
    "except Exception as e:\n",
    "    print(f\"Error creating database connection: {e}\")\n",
    "    raise SystemExit\n",
    "\n",
    "# Conuction Test\n",
    "try:\n",
    "    print(\"Testing connection to the database...\")\n",
    "    query = \"SELECT TOP 10 * FROM Person.Person\"\n",
    "    data = pd.read_sql(query, engine)\n",
    "    print(\"Connection Successful!\")\n",
    "    print(data.head())\n",
    "except Exception as e:\n",
    "    print(f\"Error testing the database connection: {e}\")\n",
    "    raise SystemExit"
   ]
  },
  {
   "cell_type": "code",
   "execution_count": 3,
   "metadata": {},
   "outputs": [
    {
     "name": "stdout",
     "output_type": "stream",
     "text": [
      "Visualization saved as 'sales_ytd_by_entity.png'\n",
      "Visualization saved as 'sales_ytd_by_entity.png'\n"
     ]
    }
   ],
   "source": [
    "# Hur View min Data och Spara Diagrameri min projects map\n",
    "def visualize_data():\n",
    "    query = \"SELECT TOP 50 BusinessEntityID, SalesYTD FROM Sales.SalesPerson\"\n",
    "    try:\n",
    "        data = pd.read_sql(query, engine)\n",
    "        plt.bar(data['BusinessEntityID'], data['SalesYTD'], color='green')\n",
    "        plt.title(\"Sales YTD by Business Entity\")\n",
    "        plt.xlabel(\"BusinessEntityID\")\n",
    "        plt.ylabel(\"Sales YTD\")\n",
    "        plt.savefig(\"sales_ytd_by_entity.png\")\n",
    "        print(\"Visualization saved as 'sales_ytd_by_entity.png'\")\n",
    "    except Exception as e:\n",
    "        print(f\"Error during data visualization: {e}\")\n",
    "\n",
    "visualize_data()\n",
    "visualize_data()\n"
   ]
  },
  {
   "cell_type": "code",
   "execution_count": 4,
   "metadata": {},
   "outputs": [
    {
     "name": "stdout",
     "output_type": "stream",
     "text": [
      "Product Sales Data:\n",
      "   ProductID    TotalSales\n",
      "0        782  4.400593e+06\n",
      "1        783  4.009495e+06\n",
      "2        779  3.693678e+06\n",
      "3        780  3.438479e+06\n",
      "4        781  3.434257e+06\n",
      "5        784  3.309673e+06\n",
      "6        793  2.516857e+06\n",
      "7        794  2.347656e+06\n",
      "8        795  2.012448e+06\n",
      "9        753  1.847819e+06\n"
     ]
    }
   ],
   "source": [
    "# Rekonstruktion som  av figur 1\n",
    "query_sales = \"\"\"\n",
    "SELECT TOP 10 ProductID, SUM(LineTotal) AS TotalSales\n",
    "FROM Sales.SalesOrderDetail\n",
    "GROUP BY ProductID\n",
    "ORDER BY TotalSales DESC\n",
    "\"\"\"\n",
    "product_sales = pd.read_sql(query_sales, engine)\n",
    "\n",
    "# jag skulle visa data i tabellformat\n",
    "print(\"Product Sales Data:\")\n",
    "print(product_sales)\n"
   ]
  },
  {
   "cell_type": "code",
   "execution_count": 5,
   "metadata": {},
   "outputs": [
    {
     "name": "stdout",
     "output_type": "stream",
     "text": [
      "Visualization saved as 'top_10_products_sales.png'\n"
     ]
    }
   ],
   "source": [
    "# Hur mina data skulle visualisera. och mapen som sparas mina project diagrams \n",
    "plt.figure(figsize=(10, 6))\n",
    "plt.bar(product_sales['ProductID'], product_sales['TotalSales'], color='blue')\n",
    "plt.title(\"Top 10 Products by Sales\")\n",
    "plt.xlabel(\"Product ID\")\n",
    "plt.ylabel(\"Total Sales\")\n",
    "plt.xticks(rotation=45)\n",
    "plt.savefig(\"top_10_products_sales.png\")\n",
    "print(\"Visualization saved as 'top_10_products_sales.png'\")\n"
   ]
  },
  {
   "cell_type": "code",
   "execution_count": 6,
   "metadata": {},
   "outputs": [],
   "source": [
    "# Extrahera försäljningsdata för figur 1\n",
    "\n",
    "query_fig1 = \"\"\"\n",
    "SELECT ProductID, SUM(LineTotal) AS TotalSales\n",
    "FROM Sales.SalesOrderDetail\n",
    "GROUP BY ProductID\n",
    "ORDER BY TotalSales DESC\n",
    "\"\"\"\n",
    "fig1_data = pd.read_sql(query_fig1, engine)\n"
   ]
  },
  {
   "cell_type": "code",
   "execution_count": 7,
   "metadata": {},
   "outputs": [
    {
     "name": "stdout",
     "output_type": "stream",
     "text": [
      "Data for Figur 1:\n",
      "   ProductID    TotalSales\n",
      "0        782  4.400593e+06\n",
      "1        783  4.009495e+06\n",
      "2        779  3.693678e+06\n",
      "3        780  3.438479e+06\n",
      "4        781  3.434257e+06\n",
      "5        784  3.309673e+06\n",
      "6        793  2.516857e+06\n",
      "7        794  2.347656e+06\n",
      "8        795  2.012448e+06\n",
      "9        753  1.847819e+06\n"
     ]
    }
   ],
   "source": [
    "# Visa data\n",
    "print(\"Data for Figur 1:\")\n",
    "print(fig1_data.head(10))\n"
   ]
  },
  {
   "cell_type": "code",
   "execution_count": 8,
   "metadata": {},
   "outputs": [
    {
     "name": "stdout",
     "output_type": "stream",
     "text": [
      "Visualization saved as 'fig1_top_10_products.png'\n"
     ]
    }
   ],
   "source": [
    "# visualera data och spara diagram\n",
    "plt.figure(figsize=(10, 6))\n",
    "plt.bar(fig1_data['ProductID'][:10], fig1_data['TotalSales'][:10], color='skyblue')\n",
    "plt.title(\"Top 10 Products by Total Sales\")\n",
    "plt.xlabel(\"Product ID\")\n",
    "plt.ylabel(\"Total Sales\")\n",
    "plt.xticks(rotation=45)\n",
    "plt.savefig(\"fig1_top_10_products.png\")\n",
    "print(\"Visualization saved as 'fig1_top_10_products.png'\")\n"
   ]
  },
  {
   "cell_type": "code",
   "execution_count": 9,
   "metadata": {},
   "outputs": [],
   "source": [
    "# Statistisk analys\n",
    "query_sales_stats = \"\"\"\n",
    "SELECT ProductID, SUM(LineTotal) AS TotalSales\n",
    "FROM Sales.SalesOrderDetail\n",
    "GROUP BY ProductID\n",
    "ORDER BY TotalSales DESC\n",
    "\"\"\"\n",
    "sales_stats_data = pd.read_sql(query_sales_stats, engine)\n"
   ]
  },
  {
   "cell_type": "code",
   "execution_count": 10,
   "metadata": {},
   "outputs": [
    {
     "name": "stdout",
     "output_type": "stream",
     "text": [
      "Mean Sales: 412956.3210522105\n",
      "Standard Deviation of Sales: 703178.5811264017\n"
     ]
    }
   ],
   "source": [
    "# Beräkning av medelvärde och standardavvikelse\n",
    "mean_sales = sales_stats_data['TotalSales'].mean()\n",
    "std_sales = sales_stats_data['TotalSales'].std()\n",
    "print(f\"Mean Sales: {mean_sales}\")\n",
    "print(f\"Standard Deviation of Sales: {std_sales}\")"
   ]
  },
  {
   "cell_type": "code",
   "execution_count": 11,
   "metadata": {},
   "outputs": [
    {
     "name": "stdout",
     "output_type": "stream",
     "text": [
      "95% Confidence Interval: (np.float64(-965248.3726555133), np.float64(1791161.0147599345))\n"
     ]
    }
   ],
   "source": [
    "# Beräkna 95 % konfidensintervall\n",
    "conf_interval = stats.norm.interval(0.95, loc=mean_sales, scale=std_sales)\n",
    "print(f\"95% Confidence Interval: {conf_interval}\")\n"
   ]
  },
  {
   "cell_type": "code",
   "execution_count": 12,
   "metadata": {},
   "outputs": [
    {
     "name": "stdout",
     "output_type": "stream",
     "text": [
      "Visualization saved as 'sales_with_confidence_interval.png'\n"
     ]
    }
   ],
   "source": [
    "# Rita den genomsnittliga grafen och konfidensintervallet och spara i mapen\n",
    "plt.figure(figsize=(10, 6))\n",
    "plt.bar(sales_stats_data['ProductID'][:10], sales_stats_data['TotalSales'][:10], color='blue', alpha=0.7, label='Total Sales')\n",
    "plt.axhline(mean_sales, color='red', linestyle='--', label=f'Mean Sales: {mean_sales:.2f}')\n",
    "plt.fill_between(sales_stats_data['ProductID'][:10], conf_interval[0], conf_interval[1], color='orange', alpha=0.3, label='Confidence Interval (95%)')\n",
    "plt.title(\"Sales by Product with Confidence Interval\")\n",
    "plt.xlabel(\"Product ID\")\n",
    "plt.ylabel(\"Total Sales\")\n",
    "plt.legend()\n",
    "plt.savefig(\"sales_with_confidence_interval.png\")\n",
    "print(\"Visualization saved as 'sales_with_confidence_interval.png'\")\n"
   ]
  },
  {
   "cell_type": "code",
   "execution_count": 13,
   "metadata": {},
   "outputs": [
    {
     "name": "stdout",
     "output_type": "stream",
     "text": [
      "Analysis and Recommendations:\n",
      "1. Focus on top-performing products based on sales.\n",
      "2. Address variability by analyzing products outside the confidence interval.\n",
      "3. Use sales trends to optimize marketing strategies.\n"
     ]
    }
   ],
   "source": [
    "# Analys och slutsatserprint och  Recommendations\n",
    "print(\"1. Focus on top-performing products based on sales.\")\n",
    "print(\"2. Address variability by analyzing products outside the confidence interval.\")\n",
    "print(\"3. Use sales trends to optimize marketing strategies.\")\n"
   ]
  },
  {
   "cell_type": "code",
   "execution_count": 18,
   "metadata": {},
   "outputs": [
    {
     "name": "stdout",
     "output_type": "stream",
     "text": [
      "Requirement already satisfied: python-pptx in c:\\#ec_utbilding\\03_sql\\sql_project\\.venv\\lib\\site-packages (1.0.2)Note: you may need to restart the kernel to use updated packages.\n",
      "\n",
      "Requirement already satisfied: Pillow>=3.3.2 in c:\\#ec_utbilding\\03_sql\\sql_project\\.venv\\lib\\site-packages (from python-pptx) (11.1.0)\n",
      "Requirement already satisfied: XlsxWriter>=0.5.7 in c:\\#ec_utbilding\\03_sql\\sql_project\\.venv\\lib\\site-packages (from python-pptx) (3.2.0)\n",
      "Requirement already satisfied: lxml>=3.1.0 in c:\\#ec_utbilding\\03_sql\\sql_project\\.venv\\lib\\site-packages (from python-pptx) (5.3.0)\n",
      "Requirement already satisfied: typing-extensions>=4.9.0 in c:\\#ec_utbilding\\03_sql\\sql_project\\.venv\\lib\\site-packages (from python-pptx) (4.12.2)\n"
     ]
    }
   ],
   "source": [
    "pip install python-pptx\n"
   ]
  }
 ],
 "metadata": {
  "kernelspec": {
   "display_name": ".venv",
   "language": "python",
   "name": "python3"
  },
  "language_info": {
   "codemirror_mode": {
    "name": "ipython",
    "version": 3
   },
   "file_extension": ".py",
   "mimetype": "text/x-python",
   "name": "python",
   "nbconvert_exporter": "python",
   "pygments_lexer": "ipython3",
   "version": "3.13.1"
  }
 },
 "nbformat": 4,
 "nbformat_minor": 2
}
